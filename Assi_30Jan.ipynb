{
 "cells": [
  {
   "cell_type": "markdown",
   "metadata": {},
   "source": [
    "Q1. Write a program to accept percentage from the user and display the grade according the folliwing criteria:\n",
    "Marks      Grade\n",
    ">90           A\n",
    ">80and <=90   B\n",
    ">=60and <=80  C\n",
    "below 60      D  "
   ]
  },
  {
   "cell_type": "code",
   "execution_count": 1,
   "metadata": {},
   "outputs": [
    {
     "name": "stdout",
     "output_type": "stream",
     "text": [
      "The grade for 80.0% is C\n"
     ]
    }
   ],
   "source": [
    "def get_grade(percentage):\n",
    "    if percentage > 90:\n",
    "        return 'A'\n",
    "    elif percentage > 80 and percentage <= 90:\n",
    "        return 'B'\n",
    "    elif percentage >= 60 and percentage <= 80:\n",
    "        return 'C'\n",
    "    else:\n",
    "        return 'D'\n",
    "\n",
    "# Accept percentage input from the user\n",
    "percentage = float(input(\"Enter the percentage: \"))\n",
    "\n",
    "# Get the grade based on the percentage\n",
    "grade = get_grade(percentage)\n",
    "\n",
    "# Display the grade\n",
    "print(f\"The grade for {percentage}% is {grade}\")\n"
   ]
  },
  {
   "cell_type": "markdown",
   "metadata": {},
   "source": [
    "2. Write a program to accept the cost price of a bike and display the road tax to be paid according to the \n",
    "following criteria: \n",
    "Tax \n",
    "15% \n",
    "10% \n",
    "5% \n",
    "Cost Price(in Rs) \n",
    ">100000 \n",
    "5 \n",
    "50000 and <= 100000 \n",
    "<= 50000 "
   ]
  },
  {
   "cell_type": "code",
   "execution_count": 2,
   "metadata": {},
   "outputs": [
    {
     "name": "stdout",
     "output_type": "stream",
     "text": [
      "The road tax to be paid for a bike with cost price of Rs. 8000.0 is Rs. 400.00\n"
     ]
    }
   ],
   "source": [
    "def calculate_tax(cost_price):\n",
    "    if cost_price > 100000:\n",
    "        tax = 0.15 * cost_price\n",
    "    elif 50000 < cost_price <= 100000:\n",
    "        tax = 0.10 * cost_price\n",
    "    else:\n",
    "        tax = 0.05 * cost_price\n",
    "    return tax\n",
    "\n",
    "# Accept the cost price input from the user\n",
    "cost_price = float(input(\"Enter the cost price of the bike (in Rs): \"))\n",
    "\n",
    "# Calculate the road tax based on the cost price\n",
    "road_tax = calculate_tax(cost_price)\n",
    "\n",
    "# Display the road tax to be paid\n",
    "print(f\"The road tax to be paid for a bike with cost price of Rs. {cost_price} is Rs. {road_tax:.2f}\")\n"
   ]
  },
  {
   "cell_type": "markdown",
   "metadata": {},
   "source": [
    "3. Accept any city from the user and display monuments of that city. \n",
    "City \n",
    "Delhi \n",
    "Monument \n",
    "Red Fort \n",
    "Taj Mahal \n",
    "Agra \n",
    "Jaipur \n",
    "Jal Mahal \n"
   ]
  },
  {
   "cell_type": "code",
   "execution_count": 3,
   "metadata": {},
   "outputs": [
    {
     "name": "stdout",
     "output_type": "stream",
     "text": [
      "The monument in Delhi is Red Fort.\n"
     ]
    }
   ],
   "source": [
    "# Define a dictionary to map cities to their monuments\n",
    "city_monuments = {\n",
    "    \"Delhi\": \"Red Fort\",\n",
    "    \"Agra\": \"Taj Mahal\",\n",
    "    \"Jaipur\": \"Jal Mahal\"\n",
    "}\n",
    "\n",
    "# Accept city input from the user\n",
    "city = input(\"Enter the name of the city: \").strip()\n",
    "\n",
    "# Get the monument for the entered city\n",
    "monument = city_monuments.get(city)\n",
    "\n",
    "# Display the monument if the city is found in the dictionary\n",
    "if monument:\n",
    "    print(f\"The monument in {city} is {monument}.\")\n",
    "else:\n",
    "    print(f\"Sorry, no monument information available for {city}.\")\n"
   ]
  },
  {
   "cell_type": "markdown",
   "metadata": {},
   "source": [
    "4. Check how many times a given number can be divided by 3 before it is less than or equal to 10. "
   ]
  },
  {
   "cell_type": "code",
   "execution_count": 4,
   "metadata": {},
   "outputs": [
    {
     "name": "stdout",
     "output_type": "stream",
     "text": [
      "The number can be divided by 3, 0 times before it is less than or equal to 10.\n"
     ]
    }
   ],
   "source": [
    "# Function to count the number of divisions\n",
    "def count_divisions_by_3(number):\n",
    "    count = 0\n",
    "    while number > 10:\n",
    "        number /= 3\n",
    "        count += 1\n",
    "    return count\n",
    "\n",
    "# Accept a number from the user\n",
    "number = float(input(\"Enter a number: \"))\n",
    "\n",
    "# Calculate and display the number of divisions\n",
    "divisions = count_divisions_by_3(number)\n",
    "print(f\"The number can be divided by 3, {divisions} times before it is less than or equal to 10.\")\n"
   ]
  },
  {
   "cell_type": "markdown",
   "metadata": {},
   "source": [
    "Q5. Why and When to Use while Loop in Python - Detailed Description with Example\n",
    "\n",
    "Why to Use while Loop:\n",
    "A while loop is used to repeatedly execute a block of statements as long as a given condition is true. It is useful when the number of iterations is not known beforehand and depends on a condition evaluated at runtime.\n",
    "\n",
    "When to Use while Loop:\n",
    "Use a while loop when you need to execute a block of code repeatedly until a condition is no longer met.\n",
    "It is particularly useful in scenarios where the iteration depends on dynamic conditions that may change within the loop body.\n"
   ]
  },
  {
   "cell_type": "code",
   "execution_count": 5,
   "metadata": {},
   "outputs": [
    {
     "name": "stdout",
     "output_type": "stream",
     "text": [
      "The first power of 2 greater than 5 is 8.\n"
     ]
    }
   ],
   "source": [
    "# Example: Finding the first power of 2 greater than a given number\n",
    "\n",
    "# Accept a number from the user\n",
    "number = int(input(\"Enter a number: \"))\n",
    "\n",
    "# Initialize the power of 2\n",
    "power_of_2 = 1\n",
    "\n",
    "# Use while loop to find the first power of 2 greater than the given number\n",
    "while power_of_2 <= number:\n",
    "    power_of_2 *= 2\n",
    "\n",
    "print(f\"The first power of 2 greater than {number} is {power_of_2}.\")\n"
   ]
  },
  {
   "cell_type": "markdown",
   "metadata": {},
   "source": [
    "Q6. Use nested while loop to print 3 different patterns\n"
   ]
  },
  {
   "cell_type": "code",
   "execution_count": 6,
   "metadata": {},
   "outputs": [
    {
     "name": "stdout",
     "output_type": "stream",
     "text": [
      "* \n",
      "* * \n",
      "* * * \n",
      "* * * * \n",
      "* * * * * \n"
     ]
    }
   ],
   "source": [
    "#Right-Angled Triangle\n",
    "i = 1\n",
    "while i <= 5:\n",
    "    j = 1\n",
    "    while j <= i:\n",
    "        print(\"*\", end=\" \")\n",
    "        j += 1\n",
    "    print()\n",
    "    i += 1\n"
   ]
  },
  {
   "cell_type": "code",
   "execution_count": 8,
   "metadata": {},
   "outputs": [
    {
     "name": "stdout",
     "output_type": "stream",
     "text": [
      "* * * * * \n",
      "* * * * \n",
      "* * * \n",
      "* * \n",
      "* \n"
     ]
    }
   ],
   "source": [
    "#Inverted Right-Angled Triangle\n",
    "i = 5\n",
    "while i >= 1:\n",
    "    j = 1\n",
    "    while j <= i:\n",
    "        print(\"*\", end=\" \")\n",
    "        j += 1\n",
    "    print()\n",
    "    i -= 1\n"
   ]
  },
  {
   "cell_type": "code",
   "execution_count": 9,
   "metadata": {},
   "outputs": [
    {
     "name": "stdout",
     "output_type": "stream",
     "text": [
      "        * \n",
      "      * * * \n",
      "    * * * * * \n",
      "  * * * * * * * \n",
      "* * * * * * * * * \n"
     ]
    }
   ],
   "source": [
    "#Pyramid\n",
    "i = 1\n",
    "while i <= 5:\n",
    "    # Print leading spaces\n",
    "    spaces = 5 - i\n",
    "    while spaces > 0:\n",
    "        print(\" \", end=\" \")\n",
    "        spaces -= 1\n",
    "    # Print stars\n",
    "    stars = 1\n",
    "    while stars <= (2*i - 1):\n",
    "        print(\"*\", end=\" \")\n",
    "        stars += 1\n",
    "    print()\n",
    "    i += 1\n"
   ]
  },
  {
   "cell_type": "markdown",
   "metadata": {},
   "source": [
    "Q7. Reverse a while loop to display numbers from 10 to 1\n"
   ]
  },
  {
   "cell_type": "code",
   "execution_count": 10,
   "metadata": {},
   "outputs": [
    {
     "name": "stdout",
     "output_type": "stream",
     "text": [
      "10\n",
      "9\n",
      "8\n",
      "7\n",
      "6\n",
      "5\n",
      "4\n",
      "3\n",
      "2\n",
      "1\n"
     ]
    }
   ],
   "source": [
    "number = 10\n",
    "while number >= 1:\n",
    "    print(number)\n",
    "    number -= 1\n"
   ]
  },
  {
   "cell_type": "code",
   "execution_count": 11,
   "metadata": {},
   "outputs": [
    {
     "name": "stdout",
     "output_type": "stream",
     "text": [
      "10\n",
      "9\n",
      "8\n",
      "7\n",
      "6\n",
      "5\n",
      "4\n",
      "3\n",
      "2\n",
      "1\n"
     ]
    }
   ],
   "source": [
    "#Q8. Reverse a while loop to display numbers from 10 to 1\n",
    "number = 10\n",
    "while number >= 1:\n",
    "    print(number)\n",
    "    number -= 1\n"
   ]
  },
  {
   "cell_type": "code",
   "execution_count": null,
   "metadata": {},
   "outputs": [],
   "source": []
  }
 ],
 "metadata": {
  "kernelspec": {
   "display_name": "Python 3",
   "language": "python",
   "name": "python3"
  },
  "language_info": {
   "codemirror_mode": {
    "name": "ipython",
    "version": 3
   },
   "file_extension": ".py",
   "mimetype": "text/x-python",
   "name": "python",
   "nbconvert_exporter": "python",
   "pygments_lexer": "ipython3",
   "version": "3.10.13"
  }
 },
 "nbformat": 4,
 "nbformat_minor": 2
}
