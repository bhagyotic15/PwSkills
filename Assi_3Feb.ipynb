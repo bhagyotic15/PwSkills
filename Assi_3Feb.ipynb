{
 "cells": [
  {
   "cell_type": "code",
   "execution_count": 10,
   "id": "04afbd8f-89c9-4278-b4a4-cbf81c956613",
   "metadata": {},
   "outputs": [
    {
     "name": "stdout",
     "output_type": "stream",
     "text": [
      "ANS: def is the keyword to create a function \n"
     ]
    },
    {
     "data": {
      "text/plain": [
       "[1, 3, 5, 7, 9, 11, 13, 15, 17, 19, 21, 23, 25]"
      ]
     },
     "execution_count": 10,
     "metadata": {},
     "output_type": "execute_result"
    }
   ],
   "source": [
    "# Q1. Which keyword is used to create a function? Create a function to return a list of odd numbers in the\n",
    "# # range of 1 to 25.\n",
    "print(\"ANS: def is the keyword to create a function \")\n",
    "\n",
    "def odd_numbers():\n",
    "    odd_nums = []\n",
    "    for num in range(1, 26):\n",
    "        if num % 2 != 0:\n",
    "            odd_nums.append(num)\n",
    "    return odd_nums\n",
    "odd_numbers()\n"
   ]
  },
  {
   "cell_type": "code",
   "execution_count": 11,
   "id": "9b618525-4e80-468d-a86d-5167cf657743",
   "metadata": {},
   "outputs": [
    {
     "name": "stdout",
     "output_type": "stream",
     "text": [
      "Ans : *args is used to pass a variable number of arguments to a function. When the number of arguments that will be passed to the function is not known in advance,**kwargs is used to pass a variable number of keyword arguments to a function\n"
     ]
    },
    {
     "data": {
      "text/plain": [
       "{}"
      ]
     },
     "execution_count": 11,
     "metadata": {},
     "output_type": "execute_result"
    }
   ],
   "source": [
    "# # Q2. Why *args and **kwargs is used in some functions? Create a function each for *args and **kwargs\n",
    "# # to demonstrate their use.\n",
    "print( \"Ans : *args is used to pass a variable number of arguments to a function. When the number of arguments that will be passed to the function is not known in advance,**kwargs is used to pass a variable number of keyword arguments to a function\")\n",
    "def concatenate_strings(*args):\n",
    "    result = ' '\n",
    "    for arg in args:\n",
    "        result += arg\n",
    "    return result\n",
    "def create_person(**kwargs):\n",
    "    person = {}\n",
    "    for key, value in kwargs.items():\n",
    "        person[key] = value\n",
    "    return person\n",
    "concatenate_strings()\n",
    "create_person()"
   ]
  },
  {
   "cell_type": "code",
   "execution_count": 12,
   "id": "e391ef77-6224-40dd-bb8c-901bc379b476",
   "metadata": {},
   "outputs": [
    {
     "name": "stdout",
     "output_type": "stream",
     "text": [
      "Ans : iterator is an object that allows you to traverse through a sequence of values one at a time. Iterators are used to access the elements of an iterable container (such as lists, tuples, and dictionaries) without the need for indexing. iter() function, which takes an iterable object as input and returns an iterator object next() function, which returns the next element in the sequence each time it is called. When there are no more elements in the sequence, the next() function raises a StopIteration exception.\n",
      "2\n",
      "4\n",
      "6\n",
      "8\n",
      "10\n"
     ]
    }
   ],
   "source": [
    "# Q3.  What is an iterator in python? Name the method used to initialise the iterator object and the method\n",
    "# used for iteration. Use these methods to print the first five elements of the given list [2, 4, 6, 8, 10, 12, 14,\n",
    "# 16, 18, 20].\n",
    "print(\"Ans : iterator is an object that allows you to traverse through a sequence of values one at a time. Iterators are used to access the elements of an iterable container (such as lists, tuples, and dictionaries) without the need for indexing.\"\n",
    "    ,\"iter() function, which takes an iterable object as input and returns an iterator object\",\n",
    "    \"next() function, which returns the next element in the sequence each time it is called. When there are no more elements in the sequence, the next() function raises a StopIteration exception.\")\n",
    "\n",
    "l = [2, 4, 6, 8, 10, 12, 14, 16, 18, 20]\n",
    "iterator = iter(l)\n",
    "\n",
    "for i in range(5):\n",
    "    print(next(iterator))\n",
    "\n",
    "    "
   ]
  },
  {
   "cell_type": "code",
   "execution_count": 17,
   "id": "c03f8527-7a2e-48ff-b878-bc2e3baab79b",
   "metadata": {},
   "outputs": [
    {
     "name": "stdout",
     "output_type": "stream",
     "text": [
      "Ans : A generator function in Python is a special type of function that uses the yield keyword to produce a series of values that can be iterated over, one at a time, instead of returning a single value. yield keyword is used in generator functions to yield a value to the caller and then pause the function's execution. The next time the function is called, it resumes execution from where it left off, continuing to yield values until there are no more values to yield or until the function is exited.\n",
      "0\n",
      "2\n",
      "4\n",
      "6\n",
      "8\n",
      "10\n",
      "12\n",
      "14\n",
      "16\n",
      "18\n"
     ]
    }
   ],
   "source": [
    "# What is a generator function in python? Why yield keyword is used? Give an example of a generator\n",
    "# # function\n",
    "print(\"Ans : A generator function in Python is a special type of function that uses the yield keyword to produce a series of values that can be iterated over, one at a time, instead of returning a single value.\",\n",
    "      \"yield keyword is used in generator functions to yield a value to the caller and then pause the function's execution. The next time the function is called, it resumes execution from where it left off, continuing to yield values until there are no more values to yield or until the function is exited.\")\n",
    "\n",
    "gen = even_numbers(10)\n",
    "for num in gen:\n",
    "    print(num)\n"
   ]
  },
  {
   "cell_type": "code",
   "execution_count": 18,
   "id": "63d6dfe1-5677-4fc1-ac66-ebf4b0ba4b98",
   "metadata": {},
   "outputs": [
    {
     "name": "stdout",
     "output_type": "stream",
     "text": [
      "2\n",
      "3\n",
      "None\n",
      "5\n",
      "None\n",
      "7\n",
      "None\n",
      "None\n",
      "None\n",
      "11\n",
      "None\n",
      "13\n",
      "None\n",
      "None\n",
      "None\n",
      "17\n",
      "None\n",
      "19\n",
      "None\n",
      "None\n"
     ]
    }
   ],
   "source": [
    "# Create a generator function for prime numbers less than 1000. Use the next() method to print the\n",
    "# first 20 prime numbers.\n",
    "def prime_numbers() :\n",
    "    gen = list(range (2, 1000))\n",
    "    \n",
    "    for i in range(len(gen)) :\n",
    "        if gen[i] is None :\n",
    "            continue \n",
    "        for j in range(i + gen[i], len(gen), gen[i]):\n",
    "            gen[j] = None \n",
    "    for num in gen :\n",
    "        if gen is not None :\n",
    "            yield num \n",
    "prime_gen = prime_numbers()\n",
    "for i in range(20):\n",
    "    print(next(prime_gen))"
   ]
  },
  {
   "cell_type": "code",
   "execution_count": 20,
   "id": "5808c022-6873-48b2-b4ef-6fe1436dde72",
   "metadata": {},
   "outputs": [
    {
     "name": "stdout",
     "output_type": "stream",
     "text": [
      "0\n",
      "1\n",
      "1\n",
      "2\n",
      "3\n",
      "5\n",
      "8\n",
      "13\n",
      "21\n",
      "34\n"
     ]
    }
   ],
   "source": [
    "# Write a python program to print the first 10 Fibonacci numbers using a while loop.\n",
    "\n",
    "a, b = 0,1 \n",
    "count = 0 \n",
    "while count < 10 :\n",
    "    print(a)\n",
    "    c = a+ b\n",
    "    a, b = b, c \n",
    "    count += 1"
   ]
  },
  {
   "cell_type": "code",
   "execution_count": 25,
   "id": "42bb5c91-0a06-40d8-9218-a2c7a5a6a107",
   "metadata": {},
   "outputs": [
    {
     "name": "stdout",
     "output_type": "stream",
     "text": [
      "['p', 'w', 's', 'k', 'i', 'l']\n"
     ]
    }
   ],
   "source": [
    "# Write a List Comprehension to iterate through the given string: ‘pwskills’.\n",
    "# Expected output: ['p', 'w', 's', 'k', 'i', 'l', 'l', 's'] \n",
    "string = 'pwskills'\n",
    "\n",
    "unique_chars = [char for i , char in enumerate(string) if char not in string[:i]]\n",
    "print(unique_chars)"
   ]
  },
  {
   "cell_type": "code",
   "execution_count": 28,
   "id": "369b3697-a362-42da-840b-ce79f6cf2fe3",
   "metadata": {},
   "outputs": [
    {
     "name": "stdin",
     "output_type": "stream",
     "text": [
      "Enter the Number :  10\n"
     ]
    },
    {
     "name": "stdout",
     "output_type": "stream",
     "text": [
      "10 is a not palidrome\n"
     ]
    }
   ],
   "source": [
    " # Write a python program to check whether a given number is Palindrome or not using a while loop.\n",
    "num = int(input(\"Enter the Number : \"))\n",
    "temp = num \n",
    "reverse_num = 0\n",
    "\n",
    "while temp > 0 :\n",
    "    digit = temp % 10 \n",
    "    reverse_num = (reverse_num * 10) + digit\n",
    "    temp //= 10\n",
    "    \n",
    "if num == reverse_num :\n",
    "    print(num, \"is a palindrome\")\n",
    "else :\n",
    "    print(num, \"is a not palidrome\")\n",
    "    "
   ]
  },
  {
   "cell_type": "code",
   "execution_count": 31,
   "id": "5e45cf11-0d29-4cd0-bdbf-205e140a4a55",
   "metadata": {},
   "outputs": [
    {
     "name": "stdout",
     "output_type": "stream",
     "text": [
      "[1, 3, 5, 7, 9, 11, 13, 15, 17, 19, 21, 23, 25, 27, 29, 31, 33, 35, 37, 39, 41, 43, 45, 47, 49, 51, 53, 55, 57, 59, 61, 63, 65, 67, 69, 71, 73, 75, 77, 79, 81, 83, 85, 87, 89, 91, 93, 95, 97, 99]\n"
     ]
    }
   ],
   "source": [
    "# Write a code to print odd numbers from 1 to 100 using list comprehension.\n",
    "number = [num for num in range(1,101)]\n",
    "odd = [num for num in number if num % 2 != 0]\n",
    "print(odd)"
   ]
  },
  {
   "cell_type": "code",
   "execution_count": null,
   "id": "6cf26e95-4388-443f-aaba-8229f2a70220",
   "metadata": {},
   "outputs": [],
   "source": []
  }
 ],
 "metadata": {
  "kernelspec": {
   "display_name": "Python 3 (ipykernel)",
   "language": "python",
   "name": "python3"
  },
  "language_info": {
   "codemirror_mode": {
    "name": "ipython",
    "version": 3
   },
   "file_extension": ".py",
   "mimetype": "text/x-python",
   "name": "python",
   "nbconvert_exporter": "python",
   "pygments_lexer": "ipython3",
   "version": "3.10.8"
  }
 },
 "nbformat": 4,
 "nbformat_minor": 5
}
