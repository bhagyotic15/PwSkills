{
 "cells": [
  {
   "cell_type": "code",
   "execution_count": 3,
   "id": "2d2f2e03-540e-4660-9297-868e79d66c8b",
   "metadata": {},
   "outputs": [
    {
     "name": "stdout",
     "output_type": "stream",
     "text": [
      "[('Jack Kallis', 25534), ('Ricky Ponting', 27483), ('Sachin Tendulkar', 34357), ('Virat Kohli', 24936)]\n"
     ]
    }
   ],
   "source": [
    "# Q1. Create a python program to sort the given list of tuples based on integer value using a\n",
    "# lambda function.[('Sachin Tendulkar', 34357), ('Ricky Ponting', 27483), ('Jack Kallis', 25534), ('Virat Kohli', 24936)]\n",
    "\n",
    "l = [('Sachin Tendulkar', 34357), ('Ricky Ponting', 27483), ('Jack Kallis', 25534), ('Virat Kohli', 24936)]\n",
    "\n",
    "l.sort(key = lambda x : x[0])\n",
    "print(l)"
   ]
  },
  {
   "cell_type": "code",
   "execution_count": 6,
   "id": "d0dce5b9-e92f-4ad1-9091-8292859771d0",
   "metadata": {},
   "outputs": [
    {
     "name": "stdout",
     "output_type": "stream",
     "text": [
      "[1, 4, 9, 16, 25, 36, 49, 64, 81, 100]\n"
     ]
    }
   ],
   "source": [
    "# Q2. Write a Python Program to find the squares of all the numbers in the given list of integers using\n",
    "# lambda and map functions.\n",
    "# # [1, 2, 3, 4, 5, 6, 7, 8, 9, 10]\n",
    "\n",
    "l = [1,2,3,4,5,6,7,8,9,10]\n",
    "\n",
    "square = list(map(lambda x : x**2 , l))\n",
    "\n",
    "print(square)"
   ]
  },
  {
   "cell_type": "code",
   "execution_count": 14,
   "id": "f75fabf1-bd6b-4f4b-8019-e66cf3e91036",
   "metadata": {},
   "outputs": [
    {
     "name": "stdout",
     "output_type": "stream",
     "text": [
      "('1', '2', '3', '4', '5', '6', '7', '8', '9', '10')\n"
     ]
    }
   ],
   "source": [
    "# Q3. Write a python program to convert the given list of integers into a tuple of strings. Use map and\n",
    "# lambda functions\n",
    "# Given String: [1, 2, 3, 4, 5, 6, 7, 8, 9, 10]\n",
    "# Expected output: ('1', '2', '3', '4', '5', '6', '7', '8', '9', '10')\n",
    "\n",
    "List = [1,2,3,4,5,6,7,8,9,10]\n",
    "\n",
    "Tuple = tuple(map(lambda x : str(x), List))\n",
    "         \n",
    "print(Tuple)"
   ]
  },
  {
   "cell_type": "code",
   "execution_count": 26,
   "id": "f2607494-3c75-4f3d-a5d8-55379f4a4498",
   "metadata": {},
   "outputs": [
    {
     "name": "stdout",
     "output_type": "stream",
     "text": [
      "620448401733239439360000\n"
     ]
    }
   ],
   "source": [
    "# Write a python program using reduce function to compute the product of a list containing numbers\n",
    "# from 1 to 25.\n",
    "\n",
    "from functools import reduce \n",
    "\n",
    "l = list(range(1,25))\n",
    "result = reduce(lambda x,y : x*y, l)\n",
    "print(result)\n"
   ]
  },
  {
   "cell_type": "code",
   "execution_count": 28,
   "id": "ea1d7909-eba9-4664-ac4e-6f86e26cafeb",
   "metadata": {},
   "outputs": [
    {
     "name": "stdout",
     "output_type": "stream",
     "text": [
      "[6, 60, 90, 120]\n"
     ]
    }
   ],
   "source": [
    "# Write a python program to filter the numbers in a given list that are divisible by 2 and 3 using the\n",
    "# filter function.[2, 3, 6, 9, 27, 60, 90, 120, 55, 46]\n",
    "\n",
    "l = [2, 3, 4, 6, 9, 27, 60,90,120, 55, 46]\n",
    "\n",
    "result = list(filter(lambda x : x % 2 == 0 and x % 3 == 0 , l))\n",
    "\n",
    "print(result)\n",
    "\n"
   ]
  },
  {
   "cell_type": "code",
   "execution_count": 32,
   "id": "92938948-b30b-4b11-90da-43bca27337b9",
   "metadata": {},
   "outputs": [
    {
     "name": "stdout",
     "output_type": "stream",
     "text": [
      "['php', 'aba', 'radar', 'level']\n"
     ]
    }
   ],
   "source": [
    "#  Write a python program to find palindromes in the given list of strings using lambda and filter\n",
    "# function.\n",
    "# ['python', 'php', 'aba', 'radar', 'level']\n",
    "\n",
    "l = ['python', 'php', 'aba' , 'radar', 'level']\n",
    "\n",
    "p = list(filter(lambda x : x == x[::-1], l))\n",
    "\n",
    "print(p)"
   ]
  },
  {
   "cell_type": "code",
   "execution_count": null,
   "id": "6f046c17-a362-4145-82ca-4cac0d3dbf6d",
   "metadata": {},
   "outputs": [],
   "source": []
  }
 ],
 "metadata": {
  "kernelspec": {
   "display_name": "Python 3 (ipykernel)",
   "language": "python",
   "name": "python3"
  },
  "language_info": {
   "codemirror_mode": {
    "name": "ipython",
    "version": 3
   },
   "file_extension": ".py",
   "mimetype": "text/x-python",
   "name": "python",
   "nbconvert_exporter": "python",
   "pygments_lexer": "ipython3",
   "version": "3.10.8"
  }
 },
 "nbformat": 4,
 "nbformat_minor": 5
}
