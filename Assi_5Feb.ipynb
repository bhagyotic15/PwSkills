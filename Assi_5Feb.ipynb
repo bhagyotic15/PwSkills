{
 "cells": [
  {
   "cell_type": "markdown",
   "metadata": {},
   "source": [
    "Q1. Explain Class and Object with respect to Object-Oriented Programming. Give a suitable example.\n",
    "Class: A class is a blueprint for creating objects. It defines a set of attributes and methods that the created objects will have. In other words, a class encapsulates data for the object and methods to manipulate that data.\n",
    "\n",
    "Object: An object is an instance of a class. It is a self-contained component that consists of attributes (data) and methods (functions). Objects interact with one another and are the building blocks of Object-Oriented Programming (OOP)."
   ]
  },
  {
   "cell_type": "code",
   "execution_count": 3,
   "metadata": {},
   "outputs": [
    {
     "name": "stdout",
     "output_type": "stream",
     "text": [
      "Car Info: 2020 Toyota Corolla\n"
     ]
    }
   ],
   "source": [
    "#Example Q1\n",
    "class Car:\n",
    "    def __init__(self, make, model, year):\n",
    "        self.make = make\n",
    "        self.model = model\n",
    "        self.year = year\n",
    "\n",
    "    def display_info(self):\n",
    "        print(f\"Car Info: {self.year} {self.make} {self.model}\")\n",
    "\n",
    "# Creating an object of the Car class\n",
    "my_car = Car(\"Toyota\", \"Corolla\", 2020)\n",
    "my_car.display_info()\n"
   ]
  },
  {
   "cell_type": "markdown",
   "metadata": {},
   "source": [
    "Q2. Name the four pillars of OOPs.\n",
    "The four pillars of Object-Oriented Programming (OOP) are:\n",
    "\n",
    "Encapsulation: Bundling the data and the methods that operate on the data into a single unit called a class, and restricting access to some of the object's components.\n",
    "Abstraction: Hiding the complex implementation details and showing only the necessary features of the object.\n",
    "Inheritance: The mechanism by which one class (child class) can inherit properties and methods from another class (parent class).\n",
    "Polymorphism: The ability to present the same interface for different underlying data types. It allows methods to do different things based on the object it is acting upon"
   ]
  },
  {
   "cell_type": "markdown",
   "metadata": {},
   "source": [
    "Q3. Explain why the __init__() function is used. Give a suitable example.\n",
    "The __init__() function is a special method in Python classes, known as the constructor. It is automatically called when an object of the class is instantiated. It allows the class to initialize the attributes of the object.\n",
    "\n"
   ]
  },
  {
   "cell_type": "code",
   "execution_count": 4,
   "metadata": {},
   "outputs": [
    {
     "name": "stdout",
     "output_type": "stream",
     "text": [
      "Employee Name: Alice, Position: Manager\n"
     ]
    }
   ],
   "source": [
    "#Example Q3\n",
    "class Employee:\n",
    "    def __init__(self, name, position):\n",
    "        self.name = name\n",
    "        self.position = position\n",
    "\n",
    "    def display_employee(self):\n",
    "        print(f\"Employee Name: {self.name}, Position: {self.position}\")\n",
    "\n",
    "# Creating an object of the Employee class\n",
    "emp1 = Employee(\"Alice\", \"Manager\")\n",
    "emp1.display_employee()\n"
   ]
  },
  {
   "cell_type": "markdown",
   "metadata": {},
   "source": [
    "Q4. Why self is used in OOPs?\n",
    "The self parameter is a reference to the current instance of the class. It is used to access variables and methods associated with the current object. By using self, each object maintains its own attributes and methods independently of other objects."
   ]
  },
  {
   "cell_type": "code",
   "execution_count": 6,
   "metadata": {},
   "outputs": [
    {
     "name": "stdout",
     "output_type": "stream",
     "text": [
      "Buddy says Woof!\n",
      "Charlie says Woof!\n"
     ]
    }
   ],
   "source": [
    "#Example Q4\n",
    "class Dog:\n",
    "    def __init__(self, name):\n",
    "        self.name = name\n",
    "\n",
    "    def bark(self):\n",
    "        print(f\"{self.name} says Woof!\")\n",
    "\n",
    "# Creating objects of the Dog class\n",
    "dog1 = Dog(\"Buddy\")\n",
    "dog2 = Dog(\"Charlie\")\n",
    "\n",
    "dog1.bark()  # Output: Buddy says Woof!\n",
    "dog2.bark()  # Output: Charlie says Woof!\n"
   ]
  },
  {
   "cell_type": "markdown",
   "metadata": {},
   "source": [
    "Q5. What is inheritance? Give an example for each type of inheritance.\n",
    "Inheritance is a feature of OOP that allows a class to inherit properties and methods from another class. It promotes code reuse and establishes a relationship between the parent and child classes."
   ]
  },
  {
   "cell_type": "code",
   "execution_count": 8,
   "metadata": {},
   "outputs": [
    {
     "name": "stdout",
     "output_type": "stream",
     "text": [
      "Parent class method\n",
      "Child class method\n"
     ]
    }
   ],
   "source": [
    "#Types of Inheritence \n",
    "# 1. Single Inheritance : A Child class inherits from a single parent class\n",
    "class Parent:\n",
    "    def show(self):\n",
    "        print(\"Parent class method\")\n",
    "\n",
    "class Child(Parent):\n",
    "    def display(self):\n",
    "        print(\"Child class method\")\n",
    "\n",
    "child = Child()\n",
    "child.show()    # Output: Parent class method\n",
    "child.display() # Output: Child class method\n"
   ]
  },
  {
   "cell_type": "code",
   "execution_count": 9,
   "metadata": {},
   "outputs": [
    {
     "name": "stdout",
     "output_type": "stream",
     "text": [
      "Parent1 class method\n",
      "Parent2 class method\n"
     ]
    }
   ],
   "source": [
    "# 2.Multiple Inheritance: A child class inherits from more than one parent class.\n",
    "\n",
    "class Parent1:\n",
    "    def method1(self):\n",
    "        print(\"Parent1 class method\")\n",
    "\n",
    "class Parent2:\n",
    "    def method2(self):\n",
    "        print(\"Parent2 class method\")\n",
    "\n",
    "class Child(Parent1, Parent2):\n",
    "    pass\n",
    "\n",
    "child = Child()\n",
    "child.method1() # Output: Parent1 class method\n",
    "child.method2() # Output: Parent2 class method\n"
   ]
  },
  {
   "cell_type": "code",
   "execution_count": 10,
   "metadata": {},
   "outputs": [
    {
     "name": "stdout",
     "output_type": "stream",
     "text": [
      "Grandparent class method\n",
      "Parent class method\n",
      "Child class method\n"
     ]
    }
   ],
   "source": [
    "#3.Multilevel Inheritance: A class inherits from another class, which in turn inherits from another class.\n",
    "class Grandparent:\n",
    "    def method1(self):\n",
    "        print(\"Grandparent class method\")\n",
    "\n",
    "class Parent(Grandparent):\n",
    "    def method2(self):\n",
    "        print(\"Parent class method\")\n",
    "\n",
    "class Child(Parent):\n",
    "    def method3(self):\n",
    "        print(\"Child class method\")\n",
    "\n",
    "child = Child()\n",
    "child.method1() # Output: Grandparent class method\n",
    "child.method2() # Output: Parent class method\n",
    "child.method3() # Output: Child class method\n",
    "\n"
   ]
  },
  {
   "cell_type": "code",
   "execution_count": 11,
   "metadata": {},
   "outputs": [
    {
     "name": "stdout",
     "output_type": "stream",
     "text": [
      "Parent class method\n",
      "Child1 class method\n",
      "Parent class method\n",
      "Child2 class method\n"
     ]
    }
   ],
   "source": [
    "# 4.Hierarchical Inheritance: Multiple classes inherit from a single parent class.\n",
    "class Parent:\n",
    "    def show(self):\n",
    "        print(\"Parent class method\")\n",
    "\n",
    "class Child1(Parent):\n",
    "    def display1(self):\n",
    "        print(\"Child1 class method\")\n",
    "\n",
    "class Child2(Parent):\n",
    "    def display2(self):\n",
    "        print(\"Child2 class method\")\n",
    "\n",
    "child1 = Child1()\n",
    "child2 = Child2()\n",
    "\n",
    "child1.show()     # Output: Parent class method\n",
    "child1.display1() # Output: Child1 class method\n",
    "child2.show()     # Output: Parent class method\n",
    "child2.display2() # Output: Child2 class method\n",
    "\n"
   ]
  },
  {
   "cell_type": "code",
   "execution_count": 12,
   "metadata": {},
   "outputs": [
    {
     "name": "stdout",
     "output_type": "stream",
     "text": [
      "Base class method\n",
      "Derived1 class method\n",
      "Derived2 class method\n",
      "Derived3 class method\n"
     ]
    }
   ],
   "source": [
    "# 5.Hybrid Inheritance: A combination of two or more types of inheritance.\n",
    "class Base:\n",
    "    def method_base(self):\n",
    "        print(\"Base class method\")\n",
    "\n",
    "class Derived1(Base):\n",
    "    def method_derived1(self):\n",
    "        print(\"Derived1 class method\")\n",
    "\n",
    "class Derived2(Base):\n",
    "    def method_derived2(self):\n",
    "        print(\"Derived2 class method\")\n",
    "\n",
    "class Derived3(Derived1, Derived2):\n",
    "    def method_derived3(self):\n",
    "        print(\"Derived3 class method\")\n",
    "\n",
    "derived3 = Derived3()\n",
    "derived3.method_base()       # Output: Base class method\n",
    "derived3.method_derived1()   # Output: Derived1 class method\n",
    "derived3.method_derived2()   # Output: Derived2 class method\n",
    "derived3.method_derived3()   # Output: Derived3 class method\n",
    "\n"
   ]
  },
  {
   "cell_type": "code",
   "execution_count": null,
   "metadata": {},
   "outputs": [],
   "source": []
  }
 ],
 "metadata": {
  "kernelspec": {
   "display_name": "Python 3",
   "language": "python",
   "name": "python3"
  },
  "language_info": {
   "codemirror_mode": {
    "name": "ipython",
    "version": 3
   },
   "file_extension": ".py",
   "mimetype": "text/x-python",
   "name": "python",
   "nbconvert_exporter": "python",
   "pygments_lexer": "ipython3",
   "version": "3.10.13"
  }
 },
 "nbformat": 4,
 "nbformat_minor": 2
}
